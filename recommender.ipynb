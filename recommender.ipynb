{
 "cells": [
  {
   "cell_type": "code",
   "execution_count": 1,
   "metadata": {
    "collapsed": true
   },
   "outputs": [],
   "source": [
    "import pandas as pd\n",
    "import numpy as np"
   ]
  },
  {
   "cell_type": "code",
   "execution_count": 2,
   "metadata": {
    "collapsed": true
   },
   "outputs": [],
   "source": [
    "M = pd.read_csv('moviereviews.csv', index_col='Name')\n"
   ]
  },
  {
   "cell_type": "code",
   "execution_count": 18,
   "metadata": {
    "collapsed": false
   },
   "outputs": [
    {
     "data": {
      "text/html": [
       "<div>\n",
       "<table border=\"1\" class=\"dataframe\">\n",
       "  <thead>\n",
       "    <tr style=\"text-align: right;\">\n",
       "      <th></th>\n",
       "      <th>American Sniper</th>\n",
       "      <th>The Hunger Games: Mockingjay - Part 1</th>\n",
       "      <th>Guardians of the Galaxy</th>\n",
       "      <th>The Lego Movie</th>\n",
       "      <th>The Hobbit</th>\n",
       "      <th>Transformers</th>\n",
       "      <th>Malificent</th>\n",
       "      <th>Big Hero 6</th>\n",
       "      <th>Godzilla</th>\n",
       "      <th>Interstellar</th>\n",
       "      <th>How to Train your Dragon 2</th>\n",
       "      <th>Gone Girl</th>\n",
       "      <th>Divergent</th>\n",
       "      <th>The Fault in Our Stars</th>\n",
       "      <th>Unbroken</th>\n",
       "      <th>300: Rise of an Empire</th>\n",
       "    </tr>\n",
       "    <tr>\n",
       "      <th>Name</th>\n",
       "      <th></th>\n",
       "      <th></th>\n",
       "      <th></th>\n",
       "      <th></th>\n",
       "      <th></th>\n",
       "      <th></th>\n",
       "      <th></th>\n",
       "      <th></th>\n",
       "      <th></th>\n",
       "      <th></th>\n",
       "      <th></th>\n",
       "      <th></th>\n",
       "      <th></th>\n",
       "      <th></th>\n",
       "      <th></th>\n",
       "      <th></th>\n",
       "    </tr>\n",
       "  </thead>\n",
       "  <tbody>\n",
       "    <tr>\n",
       "      <th>Mike</th>\n",
       "      <td>NaN</td>\n",
       "      <td>NaN</td>\n",
       "      <td>5</td>\n",
       "      <td>NaN</td>\n",
       "      <td>4</td>\n",
       "      <td>NaN</td>\n",
       "      <td>3</td>\n",
       "      <td>NaN</td>\n",
       "      <td>NaN</td>\n",
       "      <td>NaN</td>\n",
       "      <td>NaN</td>\n",
       "      <td>NaN</td>\n",
       "      <td>3</td>\n",
       "      <td>NaN</td>\n",
       "      <td>NaN</td>\n",
       "      <td>2</td>\n",
       "    </tr>\n",
       "    <tr>\n",
       "      <th>HJ SONG</th>\n",
       "      <td>NaN</td>\n",
       "      <td>2</td>\n",
       "      <td>3</td>\n",
       "      <td>4</td>\n",
       "      <td>4</td>\n",
       "      <td>5</td>\n",
       "      <td>NaN</td>\n",
       "      <td>4</td>\n",
       "      <td>4</td>\n",
       "      <td>5</td>\n",
       "      <td>5</td>\n",
       "      <td>NaN</td>\n",
       "      <td>NaN</td>\n",
       "      <td>NaN</td>\n",
       "      <td>5</td>\n",
       "      <td>5</td>\n",
       "    </tr>\n",
       "    <tr>\n",
       "      <th>Ryan Hansen</th>\n",
       "      <td>NaN</td>\n",
       "      <td>3</td>\n",
       "      <td>4</td>\n",
       "      <td>3</td>\n",
       "      <td>5</td>\n",
       "      <td>2</td>\n",
       "      <td>3</td>\n",
       "      <td>3</td>\n",
       "      <td>3</td>\n",
       "      <td>NaN</td>\n",
       "      <td>5</td>\n",
       "      <td>NaN</td>\n",
       "      <td>3</td>\n",
       "      <td>NaN</td>\n",
       "      <td>NaN</td>\n",
       "      <td>NaN</td>\n",
       "    </tr>\n",
       "    <tr>\n",
       "      <th>Olumuyiwa Durojaiye</th>\n",
       "      <td>NaN</td>\n",
       "      <td>NaN</td>\n",
       "      <td>NaN</td>\n",
       "      <td>NaN</td>\n",
       "      <td>NaN</td>\n",
       "      <td>5</td>\n",
       "      <td>NaN</td>\n",
       "      <td>5</td>\n",
       "      <td>2</td>\n",
       "      <td>NaN</td>\n",
       "      <td>3</td>\n",
       "      <td>NaN</td>\n",
       "      <td>NaN</td>\n",
       "      <td>NaN</td>\n",
       "      <td>NaN</td>\n",
       "      <td>2</td>\n",
       "    </tr>\n",
       "    <tr>\n",
       "      <th>Charlie</th>\n",
       "      <td>NaN</td>\n",
       "      <td>2</td>\n",
       "      <td>3</td>\n",
       "      <td>NaN</td>\n",
       "      <td>3</td>\n",
       "      <td>2</td>\n",
       "      <td>3</td>\n",
       "      <td>NaN</td>\n",
       "      <td>4</td>\n",
       "      <td>5</td>\n",
       "      <td>2</td>\n",
       "      <td>NaN</td>\n",
       "      <td>2</td>\n",
       "      <td>3</td>\n",
       "      <td>NaN</td>\n",
       "      <td>2</td>\n",
       "    </tr>\n",
       "  </tbody>\n",
       "</table>\n",
       "</div>"
      ],
      "text/plain": [
       "                     American Sniper  The Hunger Games: Mockingjay - Part 1  \\\n",
       "Name                                                                          \n",
       "Mike                             NaN                                    NaN   \n",
       "HJ SONG                          NaN                                      2   \n",
       "Ryan Hansen                      NaN                                      3   \n",
       "Olumuyiwa Durojaiye              NaN                                    NaN   \n",
       "Charlie                          NaN                                      2   \n",
       "\n",
       "                     Guardians of the Galaxy  The Lego Movie  The Hobbit  \\\n",
       "Name                                                                       \n",
       "Mike                                       5             NaN           4   \n",
       "HJ SONG                                    3               4           4   \n",
       "Ryan Hansen                                4               3           5   \n",
       "Olumuyiwa Durojaiye                      NaN             NaN         NaN   \n",
       "Charlie                                    3             NaN           3   \n",
       "\n",
       "                     Transformers  Malificent  Big Hero 6  Godzilla  \\\n",
       "Name                                                                  \n",
       "Mike                          NaN           3         NaN       NaN   \n",
       "HJ SONG                         5         NaN           4         4   \n",
       "Ryan Hansen                     2           3           3         3   \n",
       "Olumuyiwa Durojaiye             5         NaN           5         2   \n",
       "Charlie                         2           3         NaN         4   \n",
       "\n",
       "                     Interstellar  How to Train your Dragon 2  Gone Girl  \\\n",
       "Name                                                                       \n",
       "Mike                          NaN                         NaN        NaN   \n",
       "HJ SONG                         5                           5        NaN   \n",
       "Ryan Hansen                   NaN                           5        NaN   \n",
       "Olumuyiwa Durojaiye           NaN                           3        NaN   \n",
       "Charlie                         5                           2        NaN   \n",
       "\n",
       "                     Divergent  The Fault in Our Stars  Unbroken  \\\n",
       "Name                                                               \n",
       "Mike                         3                     NaN       NaN   \n",
       "HJ SONG                    NaN                     NaN         5   \n",
       "Ryan Hansen                  3                     NaN       NaN   \n",
       "Olumuyiwa Durojaiye        NaN                     NaN       NaN   \n",
       "Charlie                      2                       3       NaN   \n",
       "\n",
       "                     300: Rise of an Empire  \n",
       "Name                                         \n",
       "Mike                                      2  \n",
       "HJ SONG                                   5  \n",
       "Ryan Hansen                             NaN  \n",
       "Olumuyiwa Durojaiye                       2  \n",
       "Charlie                                   2  "
      ]
     },
     "execution_count": 18,
     "metadata": {},
     "output_type": "execute_result"
    }
   ],
   "source": [
    "M.head()"
   ]
  },
  {
   "cell_type": "code",
   "execution_count": 5,
   "metadata": {
    "collapsed": true
   },
   "outputs": [],
   "source": [
    "def pearson(s1, s2):\n",
    "    \"\"\"Take two pd.Series objects and return a pearson correlation.\"\"\"\n",
    "    s1_c = s1 - s1.mean()\n",
    "    s2_c = s2 - s2.mean()\n",
    "    return np.sum(s1_c * s2_c) / np.sqrt(np.sum(s1_c ** 2) * np.sum(s2_c ** 2))"
   ]
  },
  {
   "cell_type": "code",
   "execution_count": 6,
   "metadata": {
    "collapsed": true
   },
   "outputs": [],
   "source": [
    "def get_recs(movie_name, M, num):\n",
    "\n",
    "    import numpy as np\n",
    "    reviews = []\n",
    "    for title in M.columns:\n",
    "        if title == movie_name:\n",
    "            continue\n",
    "        cor = pearson(M[movie_name], M[title])\n",
    "        if np.isnan(cor):\n",
    "            continue\n",
    "        else:\n",
    "            reviews.append((title, cor))\n",
    "    \n",
    "    reviews.sort(key=lambda tup: tup[1], reverse=True)\n",
    "    return reviews[:num]"
   ]
  },
  {
   "cell_type": "markdown",
   "metadata": {},
   "source": [
    "Question 1: What movie is most Similar to 'The fault in our stars' (60 pts)"
   ]
  },
  {
   "cell_type": "code",
   "execution_count": 7,
   "metadata": {
    "collapsed": true
   },
   "outputs": [],
   "source": [
    "recs = get_recs('The Fault in Our Stars', M, 10)"
   ]
  },
  {
   "cell_type": "code",
   "execution_count": 10,
   "metadata": {
    "collapsed": false
   },
   "outputs": [
    {
     "data": {
      "text/plain": [
       "[('How to Train your Dragon 2', 0.33955707690099768)]"
      ]
     },
     "execution_count": 10,
     "metadata": {},
     "output_type": "execute_result"
    }
   ],
   "source": [
    "recs[:1]"
   ]
  },
  {
   "cell_type": "markdown",
   "metadata": {},
   "source": [
    "Question 2: Which movie(s) would you most like to see, based on your classmates experience? (40 pts)"
   ]
  },
  {
   "cell_type": "code",
   "execution_count": 13,
   "metadata": {
    "collapsed": false
   },
   "outputs": [],
   "source": [
    "#the movieswhich i have seen\n",
    "my_ratings = M.ix['Arun Vedere'].dropna()"
   ]
  },
  {
   "cell_type": "code",
   "execution_count": 14,
   "metadata": {
    "collapsed": true
   },
   "outputs": [],
   "source": [
    "#the movies which i have rated the highest\n",
    "my_ratings.sort(ascending=False)"
   ]
  },
  {
   "cell_type": "code",
   "execution_count": 15,
   "metadata": {
    "collapsed": true
   },
   "outputs": [],
   "source": [
    "#the movie which i have rated the highest\n",
    "fav_movie = my_ratings.index[0]\n"
   ]
  },
  {
   "cell_type": "code",
   "execution_count": 19,
   "metadata": {
    "collapsed": false
   },
   "outputs": [
    {
     "data": {
      "text/plain": [
       "'300: Rise of an Empire'"
      ]
     },
     "execution_count": 19,
     "metadata": {},
     "output_type": "execute_result"
    }
   ],
   "source": [
    "fav_movie"
   ]
  },
  {
   "cell_type": "code",
   "execution_count": 21,
   "metadata": {
    "collapsed": true
   },
   "outputs": [],
   "source": [
    "recs = get_recs(fav_movie, M, 10)\n"
   ]
  },
  {
   "cell_type": "code",
   "execution_count": 22,
   "metadata": {
    "collapsed": false
   },
   "outputs": [
    {
     "data": {
      "text/plain": [
       "[('American Sniper', 0.29698375932299376),\n",
       " ('Gone Girl', 0.17959715629836334),\n",
       " ('Divergent', 0.14668168473283816),\n",
       " ('The Hobbit', 0.12999583308619009),\n",
       " ('How to Train your Dragon 2', 0.11945425171457931),\n",
       " ('Interstellar', 0.11561020054123315),\n",
       " ('Godzilla', 0.077527815749435985)]"
      ]
     },
     "execution_count": 22,
     "metadata": {},
     "output_type": "execute_result"
    }
   ],
   "source": [
    "recs[:7]"
   ]
  },
  {
   "cell_type": "markdown",
   "metadata": {},
   "source": [
    "Question 3: Bonus Question... For all the movies you haven't seen, can you predict how you'd rate them using your the class reviews? (10 pts)"
   ]
  },
  {
   "cell_type": "code",
   "execution_count": 23,
   "metadata": {
    "collapsed": true
   },
   "outputs": [],
   "source": [
    "not_rated = M.ix['Arun Vedere']\n",
    "not_rated.sort()\n",
    "for i in range(0, not_rated.count(), 1):\n",
    "    not_rated.drop(not_rated.index[0], inplace=True)"
   ]
  },
  {
   "cell_type": "code",
   "execution_count": 24,
   "metadata": {
    "collapsed": false
   },
   "outputs": [
    {
     "data": {
      "text/plain": [
       "Big Hero 6               NaN\n",
       "Gone Girl                NaN\n",
       "Divergent                NaN\n",
       "The Fault in Our Stars   NaN\n",
       "Unbroken                 NaN\n",
       "Name: Arun Vedere, dtype: float64"
      ]
     },
     "execution_count": 24,
     "metadata": {},
     "output_type": "execute_result"
    }
   ],
   "source": [
    "not_rated\n"
   ]
  },
  {
   "cell_type": "code",
   "execution_count": 30,
   "metadata": {
    "collapsed": false,
    "scrolled": true
   },
   "outputs": [
    {
     "name": "stdout",
     "output_type": "stream",
     "text": [
      "Pearson Correlation coefficient of :\n",
      "(Arun Vedere , Mike) : -0.0620173672946\n",
      "(Arun Vedere , HJ SONG) : 0.548758930348\n",
      "(Arun Vedere , Ryan Hansen) : 0.219577516413\n",
      "(Arun Vedere , Olumuyiwa Durojaiye) : 0.186500961648\n",
      "(Arun Vedere , Charlie) : 0.0207078841641\n",
      "(Arun Vedere , Sina Tuy) : 0.0174714139454\n",
      "(Arun Vedere , Pavithra Shetty) : 0.373101253622\n",
      "(Arun Vedere , Sara Collins) : 0.144337567297\n",
      "(Arun Vedere , Jonathan Doll) : -0.211288563682\n",
      "(Arun Vedere , saikiran reddy) : -0.0907841299003\n",
      "(Arun Vedere , Aishwarya reddy) : 0.327326835354\n",
      "(Arun Vedere , Brant Mullinix) : 0.195433989993\n",
      "(Arun Vedere , Sai Sampath) : 0.327326835354\n",
      "(Arun Vedere , Suyendra) : 0.336458590062\n",
      "(Arun Vedere , Sai Yallapragada) : 0.53033008589\n",
      "(Arun Vedere , Akhilesh) : 0.572936560643\n",
      "(Arun Vedere , Sundar Prasad) : 0.288675134595\n",
      "(Arun Vedere , Evan Piercy) : 0.0\n",
      "(Arun Vedere , Jessica Fong) : 0.19364916731\n",
      "(Arun Vedere , Onsiri Tapsarn) : nan\n",
      "(Arun Vedere , Anirudh Thota) : 0.606103218199\n",
      "(Arun Vedere , Greg Werner) : 0.303466368375\n",
      "(Arun Vedere , Violeta Lee Fay) : -0.238144836104\n"
     ]
    }
   ],
   "source": [
    "print \"Pearson Correlation coefficient of :\"\n",
    "a= []\n",
    "for i in range(0, 23, 1): # as there are 23 rows(M.shape), range(0,23) \n",
    "    cor=pearson(M.ix[43], M.ix[i])\n",
    "    print \"(\" + M.index[43] + \" , \" + M.index[i] + \") :\", cor\n",
    "    a.append(cor)"
   ]
  },
  {
   "cell_type": "code",
   "execution_count": 32,
   "metadata": {
    "collapsed": true
   },
   "outputs": [],
   "source": [
    "def pred_rate(x, a):\n",
    "    \"\"\"\n",
    "    Takes two parameters 'x' and 'a'. \n",
    "    Where 'x' a list of rates given by classmates. \n",
    "    'a' is a array that has corresponding pearson correlation coefficientreturn (weights for the given rates).\n",
    "    predicted rate is calculated as rate= (x[0]*a[0] + x[1]*a[1] +...+x[i]*a[i]) / (a[0]+a[1]+..+a[i]) \n",
    "    returns predicted rate \n",
    "    \"\"\"\n",
    "    j=0\n",
    "    k=0\n",
    "    for i in range(0, 23, 1): # becausethere are 23 rows(x.shape), range(0,23) \n",
    "        if x.irow(i)>0 and a[i]>0: \n",
    "            j= j+(a[i]*x.irow(i))\n",
    "            k= k+a[i]\n",
    "        else:\n",
    "            continue\n",
    "    return j/k"
   ]
  },
  {
   "cell_type": "code",
   "execution_count": 39,
   "metadata": {
    "collapsed": false
   },
   "outputs": [
    {
     "name": "stdout",
     "output_type": "stream",
     "text": [
      "The ratings for the movie that I did not watch]:\n",
      "Big Hero 6:  3.7\n",
      "Gone Girl:  4.1\n",
      "Divergent:  3.1\n",
      "The Fault in Our Stars:  4.0\n",
      "Unbroken:  3.9\n"
     ]
    }
   ],
   "source": [
    "print \"The ratings for the movie that I did not watch]:\"\n",
    "for i in range(0, 5, 1): # because there are 12 rows(not_rated.shape), range(0,12) \n",
    "    x=M[not_rated.index[i]]\n",
    "    rate=pred_rate(x, a)\n",
    "    print not_rated.index[i] +\": \", rate.round(1)"
   ]
  },
  {
   "cell_type": "code",
   "execution_count": null,
   "metadata": {
    "collapsed": true
   },
   "outputs": [],
   "source": []
  }
 ],
 "metadata": {
  "kernelspec": {
   "display_name": "Python 2",
   "language": "python",
   "name": "python2"
  },
  "language_info": {
   "codemirror_mode": {
    "name": "ipython",
    "version": 2
   },
   "file_extension": ".py",
   "mimetype": "text/x-python",
   "name": "python",
   "nbconvert_exporter": "python",
   "pygments_lexer": "ipython2",
   "version": "2.7.10"
  }
 },
 "nbformat": 4,
 "nbformat_minor": 0
}
